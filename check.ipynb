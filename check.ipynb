{
 "cells": [
  {
   "cell_type": "code",
   "execution_count": 1,
   "metadata": {
    "collapsed": true
   },
   "outputs": [
    {
     "name": "stdout",
     "output_type": "stream",
     "text": [
      "/Library/Frameworks/Python.framework/Versions/3.7/Resources/Python.app/Contents/MacOS/Python: can't open file '/Volumes/ssd/unilm/layoutlmv2/experiments/run_fr.py': [Errno 2] No such file or directory\r\n"
     ]
    }
   ],
   "source": [
    "!python3 /Volumes/ssd/unilm/layoutlmv2/experiments/run_fr.py \\\n",
    "            --model_name_or_path microsoft/layoutlmv2-base-uncased \\\n",
    "            --output_dir /Volumes/ssd/unilm/layoutlmv2/test-ner \\\n",
    "            --do_train \\\n",
    "            --do_predict \\\n",
    "            --max_steps 1000 \\\n",
    "            --warmup_ratio 0.1\n"
   ]
  }
 ],
 "metadata": {
  "kernelspec": {
   "display_name": "Python 3",
   "language": "python",
   "name": "python3"
  },
  "language_info": {
   "codemirror_mode": {
    "name": "ipython",
    "version": 2
   },
   "file_extension": ".py",
   "mimetype": "text/x-python",
   "name": "python",
   "nbconvert_exporter": "python",
   "pygments_lexer": "ipython2",
   "version": "2.7.6"
  }
 },
 "nbformat": 4,
 "nbformat_minor": 0
}